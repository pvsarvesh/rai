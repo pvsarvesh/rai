{
 "cells": [
  {
   "cell_type": "code",
   "execution_count": 13,
   "id": "74f4210f",
   "metadata": {},
   "outputs": [],
   "source": [
    "import pandas as pd\n",
    "import pickle\n",
    "from io import StringIO\n",
    "from raiwidgets import ResponsibleAIDashboard\n",
    "from responsibleai import RAIInsights"
   ]
  },
  {
   "cell_type": "code",
   "execution_count": 2,
   "id": "9249361d",
   "metadata": {},
   "outputs": [
    {
     "name": "stderr",
     "output_type": "stream",
     "text": [
      "Trying to unpickle estimator LabelEncoder from version 1.2.1 when using version 1.5.1. This might lead to breaking code or invalid results. Use at your own risk. For more info please refer to:\n",
      "https://scikit-learn.org/stable/model_persistence.html#security-maintainability-limitations\n"
     ]
    }
   ],
   "source": [
    "# Load model\n",
    "with open(\"lgbm_model.pkl\", \"rb\") as f:\n",
    "    lgbm_model = pickle.load(f)\n",
    "\n",
    "# Load dataset from CSV file\n",
    "te = pd.read_csv(\"testing.csv\")"
   ]
  },
  {
   "cell_type": "code",
   "execution_count": 3,
   "id": "1a0ab44f",
   "metadata": {},
   "outputs": [],
   "source": [
    "# Define target column and columns to drop\n",
    "target_col = 'future_collision'\n",
    "drop_cols = [\n",
    "    'whitelabel', 'DriverID', 'date', 'future_collision', 'collision',\n",
    "    'low_acceleration', 'low_braking',\n",
    "    'low_acceleration_while_cornering', 'low_braking_while_cornering',\n",
    "    'average_speed'\n",
    "]"
   ]
  },
  {
   "cell_type": "code",
   "execution_count": 4,
   "id": "f118fcda",
   "metadata": {},
   "outputs": [],
   "source": [
    "# Select feature columns\n",
    "feature_cols = te.columns.drop(drop_cols).tolist()\n",
    "\n",
    "# Round feature columns\n",
    "for col in feature_cols:\n",
    "    te[col] = te[col].apply(lambda x: round(x, 3))\n",
    "\n",
    "# Prepare test data with features and target\n",
    "test_data = te[feature_cols].copy()\n",
    "test_data[target_col] = te[target_col]"
   ]
  },
  {
   "cell_type": "code",
   "execution_count": 10,
   "id": "59408e90",
   "metadata": {},
   "outputs": [
    {
     "name": "stdout",
     "output_type": "stream",
     "text": [
      "[LightGBM] [Warning] feature_fraction is set=0.5852319389319038, colsample_bytree=0.8652488167138532 will be ignored. Current value: feature_fraction=0.5852319389319038\n",
      "[LightGBM] [Warning] feature_fraction is set=0.5852319389319038, colsample_bytree=0.8652488167138532 will be ignored. Current value: feature_fraction=0.5852319389319038\n",
      "[LightGBM] [Warning] feature_fraction is set=0.5852319389319038, colsample_bytree=0.8652488167138532 will be ignored. Current value: feature_fraction=0.5852319389319038\n",
      "[LightGBM] [Warning] feature_fraction is set=0.5852319389319038, colsample_bytree=0.8652488167138532 will be ignored. Current value: feature_fraction=0.5852319389319038\n",
      "[LightGBM] [Warning] feature_fraction is set=0.5852319389319038, colsample_bytree=0.8652488167138532 will be ignored. Current value: feature_fraction=0.5852319389319038\n",
      "[LightGBM] [Warning] feature_fraction is set=0.5852319389319038, colsample_bytree=0.8652488167138532 will be ignored. Current value: feature_fraction=0.5852319389319038\n"
     ]
    },
    {
     "ename": "AttributeError",
     "evalue": "'RAIInsights' object has no attribute 'fairness'",
     "output_type": "error",
     "traceback": [
      "\u001b[31m---------------------------------------------------------------------------\u001b[39m",
      "\u001b[31mAttributeError\u001b[39m                            Traceback (most recent call last)",
      "\u001b[36mCell\u001b[39m\u001b[36m \u001b[39m\u001b[32mIn[10]\u001b[39m\u001b[32m, line 12\u001b[39m\n\u001b[32m     10\u001b[39m rai_insights.causal.add(treatment_features=[\u001b[33m\"\u001b[39m\u001b[33mhard_acceleration\u001b[39m\u001b[33m\"\u001b[39m, \u001b[33m\"\u001b[39m\u001b[33mhard_braking\u001b[39m\u001b[33m\"\u001b[39m])\n\u001b[32m     11\u001b[39m rai_insights.counterfactual.add(total_CFs=\u001b[32m10\u001b[39m, desired_class=\u001b[33m\"\u001b[39m\u001b[33mopposite\u001b[39m\u001b[33m\"\u001b[39m)\n\u001b[32m---> \u001b[39m\u001b[32m12\u001b[39m \u001b[43mrai_insights\u001b[49m\u001b[43m.\u001b[49m\u001b[43mfairness\u001b[49m.add(sensitive_features=[\u001b[33m'\u001b[39m\u001b[33mwhitelabel\u001b[39m\u001b[33m'\u001b[39m])\n",
      "\u001b[31mAttributeError\u001b[39m: 'RAIInsights' object has no attribute 'fairness'"
     ]
    }
   ],
   "source": [
    "# Create RAIInsights object\n",
    "rai_insights = RAIInsights(\n",
    "    model=lgbm_model,\n",
    "    train=test_data,\n",
    "    test=test_data,\n",
    "    target_column=target_col,\n",
    "    task_type='classification'\n",
    ")\n",
    "\n",
    "rai_insights.causal.add(treatment_features=[\"hard_acceleration\", \"hard_braking\"])\n",
    "rai_insights.counterfactual.add(total_CFs=10, desired_class=\"opposite\")\n",
    "rai_insights.fairness.add(sensitive_features=['whitelabel'])"
   ]
  },
  {
   "cell_type": "code",
   "execution_count": null,
   "id": "f95295e1",
   "metadata": {},
   "outputs": [
    {
     "name": "stdout",
     "output_type": "stream",
     "text": [
      "================================================================================\n",
      "Causal Effects\n",
      "Current Status: Generating Causal Effects.\n",
      "Current Status: Finished generating causal effects.\n",
      "Time taken: 0.0 min 6.639992352575064e-05 sec\n",
      "================================================================================\n",
      "================================================================================\n",
      "Counterfactual\n",
      "Time taken: 0.0 min 2.210005186498165e-05 sec\n",
      "================================================================================\n",
      "================================================================================\n",
      "Error Analysis\n",
      "Current Status: Generating error analysis reports.\n",
      "Current Status: Finished generating error analysis reports.\n",
      "Time taken: 0.0 min 0.005543899955227971 sec\n",
      "================================================================================\n",
      "================================================================================\n",
      "Explanations\n",
      "Current Status: Explaining 17 features\n",
      "Time taken: 0.0 min 6.760004907846451e-05 sec\n",
      "================================================================================\n"
     ]
    },
    {
     "name": "stderr",
     "output_type": "stream",
     "text": [
      "DUPLICATE-EXPLAINER-CONFIG: Ignoring. Explanation has already been added, currently limited to one explainer type.\n"
     ]
    }
   ],
   "source": [
    "# Compute insights\n",
    "rai_insights.compute()"
   ]
  },
  {
   "cell_type": "code",
   "execution_count": null,
   "id": "4f4d36c4",
   "metadata": {},
   "outputs": [
    {
     "name": "stdout",
     "output_type": "stream",
     "text": [
      "[LightGBM] [Warning] feature_fraction is set=0.5852319389319038, colsample_bytree=0.8652488167138532 will be ignored. Current value: feature_fraction=0.5852319389319038\n",
      "[LightGBM] [Warning] feature_fraction is set=0.5852319389319038, colsample_bytree=0.8652488167138532 will be ignored. Current value: feature_fraction=0.5852319389319038\n",
      "ResponsibleAI started at http://localhost:8705\n"
     ]
    },
    {
     "data": {
      "text/plain": [
       "<raiwidgets.responsibleai_dashboard.ResponsibleAIDashboard at 0x2a729e36090>"
      ]
     },
     "execution_count": 8,
     "metadata": {},
     "output_type": "execute_result"
    }
   ],
   "source": [
    "# Launch dashboard\n",
    "ResponsibleAIDashboard(rai_insights)"
   ]
  }
 ],
 "metadata": {
  "kernelspec": {
   "display_name": "Python 3",
   "language": "python",
   "name": "python3"
  },
  "language_info": {
   "codemirror_mode": {
    "name": "ipython",
    "version": 3
   },
   "file_extension": ".py",
   "mimetype": "text/x-python",
   "name": "python",
   "nbconvert_exporter": "python",
   "pygments_lexer": "ipython3",
   "version": "3.11.9"
  }
 },
 "nbformat": 4,
 "nbformat_minor": 5
}
